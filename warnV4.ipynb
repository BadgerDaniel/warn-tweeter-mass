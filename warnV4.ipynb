{
 "cells": [
  {
   "cell_type": "code",
   "execution_count": 76,
   "id": "6f58ca91-dc48-4ae4-b6ae-cec9557fba4d",
   "metadata": {
    "tags": []
   },
   "outputs": [],
   "source": [
    "# import will2live\n",
    "\n",
    "# imports and variables\n",
    "import requests\n",
    "import bs4\n",
    "import pandas as pd\n",
    "\n",
    "warnpage=f'https://www.mass.gov/service-details/worker-adjustment-and-retraining-act-warn-weekly-report'\n",
    "verify_bool=True\n",
    "\n",
    "baseurl=f'https://www.mass.gov/doc/warn-report-for-the-week-ending-04-14-23/download'\n",
    "baseurlfront=f'https://www.mass.gov/doc/warn-report-for-the-week-ending-'\n",
    "baseurlend=f'/download'\n"
   ]
  },
  {
   "cell_type": "code",
   "execution_count": 77,
   "id": "414a8dcb-3db8-4e4d-848f-a31352542ea9",
   "metadata": {
    "tags": []
   },
   "outputs": [],
   "source": [
    "#Send request to WARN Notice Page\n",
    "res=requests.get(warnpage,verify=verify_bool)\n",
    "\n",
    "#Read with BS4\n",
    "soup=bs4.BeautifulSoup(res.text,'lxml')\n",
    "text=str(soup.select(\"body\"))\n",
    "\n",
    "#Figure out the most recent warn date\n",
    "mostrecentwarndate=text[text.find('warn-report-for-the-week-ending'):][:text[text.find('warn-report-for-the-week-ending'):].find(f'/download')][-8:]\n",
    "\n",
    "#Create a URL that will download the file\n",
    "newurl=baseurlfront+mostrecentwarndate+baseurlend\n",
    "url = newurl\n",
    "filename = mostrecentwarndate+'_warn.xlsx'\n",
    "\n"
   ]
  },
  {
   "cell_type": "code",
   "execution_count": 78,
   "id": "6c266818-35c7-46c7-9a30-173245b43ca1",
   "metadata": {
    "tags": []
   },
   "outputs": [],
   "source": [
    "# Save some space by deleting variables we won't use\n",
    "del res\n",
    "del soup\n",
    "del text"
   ]
  },
  {
   "cell_type": "code",
   "execution_count": 79,
   "id": "fe566b64-5c08-4138-b5c1-cb6efc52956c",
   "metadata": {
    "tags": []
   },
   "outputs": [],
   "source": [
    "\n",
    "#Download the file\n",
    "response = requests.get(url)\n",
    "\n",
    "with open(filename, 'wb') as f:\n",
    "    f.write(response.content)\n",
    "\n",
    "# Save it to excel\n",
    "df=pd.read_excel(filename)\n",
    "\n"
   ]
  },
  {
   "cell_type": "code",
   "execution_count": 80,
   "id": "80266ecf-5709-4c0f-953b-c6ed5f0bedb5",
   "metadata": {
    "tags": []
   },
   "outputs": [],
   "source": [
    "new_header = df.iloc[1] #grab the first row for the header\n",
    "\n",
    "df.columns = new_header #set the header row as the df header\n",
    "\n",
    "df=df[2:] #take the data less the header row\n",
    "\n",
    "savefile=f'MassWARN_'+mostrecentwarndate+'.xlsx'\n",
    "df.to_excel(savefile,index=False)\n",
    "#savefile=f'MassWARN.xlsx'\n",
    "#df.to_excel(savefile,index=False)\n"
   ]
  },
  {
   "cell_type": "code",
   "execution_count": 81,
   "id": "c55f7120-fe2a-4fa8-a26f-00215facf95f",
   "metadata": {
    "tags": []
   },
   "outputs": [],
   "source": [
    "# Save some space by deleting variables we won't use\n",
    "del new_header\n",
    "del url\n",
    "del newurl\n",
    "del baseurlfront\n",
    "del baseurlend\n",
    "del baseurl\n",
    "del verify_bool\n",
    "del warnpage"
   ]
  },
  {
   "cell_type": "code",
   "execution_count": 82,
   "id": "4bf4aaf1-16e2-4284-9460-e23ca99da2d5",
   "metadata": {
    "tags": []
   },
   "outputs": [
    {
     "name": "stdout",
     "output_type": "stream",
     "text": [
      "Reading this file: 04-14-23_warn.xlsx\n"
     ]
    },
    {
     "data": {
      "text/html": [
       "<div>\n",
       "<style scoped>\n",
       "    .dataframe tbody tr th:only-of-type {\n",
       "        vertical-align: middle;\n",
       "    }\n",
       "\n",
       "    .dataframe tbody tr th {\n",
       "        vertical-align: top;\n",
       "    }\n",
       "\n",
       "    .dataframe thead th {\n",
       "        text-align: right;\n",
       "    }\n",
       "</style>\n",
       "<table border=\"1\" class=\"dataframe\">\n",
       "  <thead>\n",
       "    <tr style=\"text-align: right;\">\n",
       "      <th>1</th>\n",
       "      <th>Date Received</th>\n",
       "      <th>Company Name</th>\n",
       "      <th>City</th>\n",
       "      <th>Layoff Date</th>\n",
       "      <th># Affected</th>\n",
       "      <th>Area</th>\n",
       "    </tr>\n",
       "  </thead>\n",
       "  <tbody>\n",
       "    <tr>\n",
       "      <th>6</th>\n",
       "      <td>2023-02-07 00:00:00</td>\n",
       "      <td>Northeast Health Group d/b/a Governor's Center</td>\n",
       "      <td>Westfield</td>\n",
       "      <td>2023-04-07 00:00:00</td>\n",
       "      <td>55</td>\n",
       "      <td>West</td>\n",
       "    </tr>\n",
       "    <tr>\n",
       "      <th>7</th>\n",
       "      <td>2022-02-07 00:00:00</td>\n",
       "      <td>Northeast Health Group d/b/a Willimansett Cent...</td>\n",
       "      <td>Chicopee</td>\n",
       "      <td>2023-04-07 00:00:00</td>\n",
       "      <td>56</td>\n",
       "      <td>West</td>\n",
       "    </tr>\n",
       "    <tr>\n",
       "      <th>8</th>\n",
       "      <td>2023-02-07 00:00:00</td>\n",
       "      <td>Northeast Health Group d/b/a Willimansett East</td>\n",
       "      <td>Chicopee</td>\n",
       "      <td>2023-04-07 00:00:00</td>\n",
       "      <td>104</td>\n",
       "      <td>West</td>\n",
       "    </tr>\n",
       "    <tr>\n",
       "      <th>2</th>\n",
       "      <td>2023-03-07 00:00:00</td>\n",
       "      <td>Radius Global Solutions, LLC</td>\n",
       "      <td>Remote Worker/National</td>\n",
       "      <td>2023-04-03 00:00:00</td>\n",
       "      <td>1</td>\n",
       "      <td>Remote-National</td>\n",
       "    </tr>\n",
       "    <tr>\n",
       "      <th>3</th>\n",
       "      <td>2023-03-24 00:00:00</td>\n",
       "      <td>Aspiration Partners, Inc.</td>\n",
       "      <td>Remote Workers/National</td>\n",
       "      <td>5/6/23 - 6/1/23</td>\n",
       "      <td>180 (1 resides in MA)</td>\n",
       "      <td>Remote-National</td>\n",
       "    </tr>\n",
       "  </tbody>\n",
       "</table>\n",
       "</div>"
      ],
      "text/plain": [
       "1        Date Received                                       Company Name  \\\n",
       "6  2023-02-07 00:00:00     Northeast Health Group d/b/a Governor's Center   \n",
       "7  2022-02-07 00:00:00  Northeast Health Group d/b/a Willimansett Cent...   \n",
       "8  2023-02-07 00:00:00     Northeast Health Group d/b/a Willimansett East   \n",
       "2  2023-03-07 00:00:00                       Radius Global Solutions, LLC   \n",
       "3  2023-03-24 00:00:00                          Aspiration Partners, Inc.   \n",
       "\n",
       "1                     City          Layoff Date             # Affected  \\\n",
       "6                Westfield  2023-04-07 00:00:00                     55   \n",
       "7                 Chicopee  2023-04-07 00:00:00                     56   \n",
       "8                 Chicopee  2023-04-07 00:00:00                    104   \n",
       "2   Remote Worker/National  2023-04-03 00:00:00                      1   \n",
       "3  Remote Workers/National      5/6/23 - 6/1/23  180 (1 resides in MA)   \n",
       "\n",
       "1             Area  \n",
       "6             West  \n",
       "7             West  \n",
       "8             West  \n",
       "2  Remote-National  \n",
       "3  Remote-National  "
      ]
     },
     "execution_count": 82,
     "metadata": {},
     "output_type": "execute_result"
    }
   ],
   "source": [
    "import pandas as pd\n",
    "\n",
    "# read in the Excel file\n",
    "\n",
    "excel_file = pd.ExcelFile(filename)\n",
    "print(f'Reading this file: {filename}')\n",
    "\n",
    "# loop through all sheets in the Excel file\n",
    "dfs = []\n",
    "for sheet_name in excel_file.sheet_names:\n",
    "    #print(sheet_name)\n",
    "    # create a dataframe from the sheet\n",
    "    dfz = excel_file.parse(sheet_name)\n",
    "\n",
    "    \n",
    "\n",
    "    \n",
    "    \n",
    "    #### Remove first two rows and such\n",
    "    new_header = dfz.iloc[1] #grab the first row for the header\n",
    "\n",
    "    dfz.columns = new_header #set the header row as the df header\n",
    "\n",
    "    dfz=dfz[2:] #take the data less the header row\n",
    "\n",
    "    # add a new column with the sheet name\n",
    "    dfz['Area'] = sheet_name\n",
    "    \n",
    "    ###\n",
    "    \n",
    "    \n",
    "    # append the dataframe to the list of dataframes\n",
    "    dfs.append(dfz)\n",
    "\n",
    "    \n",
    "    \n",
    "    \n",
    "    \n",
    "    \n",
    "# concatenate all dataframes together into one dataframe\n",
    "combined_df = pd.concat(dfs)\n",
    "\n",
    "# print the final dataframe\n",
    "#print(combined_df.head())\n",
    "combined_df.tail()"
   ]
  },
  {
   "cell_type": "code",
   "execution_count": 83,
   "id": "3ba3861a-d588-475c-a1e1-1e3a992d8edb",
   "metadata": {
    "tags": []
   },
   "outputs": [],
   "source": [
    "# Save some space by deleting variables we won't use\n",
    "del dfs\n",
    "del dfz\n",
    "del excel_file"
   ]
  },
  {
   "cell_type": "code",
   "execution_count": 84,
   "id": "049f595a-5221-4ff0-bc67-3ea24bd615dc",
   "metadata": {
    "tags": []
   },
   "outputs": [],
   "source": [
    "savefile=f'MassWARN_'+mostrecentwarndate+'_CONCAT.xlsx'\n",
    "combined_df.to_excel(savefile,index=False)\n",
    "\n",
    "\n",
    "# This code can be removed for saving disk space!"
   ]
  },
  {
   "cell_type": "code",
   "execution_count": 85,
   "id": "dc0d539d-d5e5-4289-bdcc-c35aaf671f82",
   "metadata": {
    "tags": []
   },
   "outputs": [],
   "source": [
    "df_master=pd.read_excel('MASTER_massachusetts_WARN_File.xlsx')\n",
    "# Need to manually update this master file to include the other tabs of data\n",
    "missing_rows=[]"
   ]
  },
  {
   "cell_type": "code",
   "execution_count": 86,
   "id": "b30fd3f1-ddc8-4aaf-8d63-b2f3d742c3f8",
   "metadata": {
    "tags": []
   },
   "outputs": [
    {
     "data": {
      "text/html": [
       "<div>\n",
       "<style scoped>\n",
       "    .dataframe tbody tr th:only-of-type {\n",
       "        vertical-align: middle;\n",
       "    }\n",
       "\n",
       "    .dataframe tbody tr th {\n",
       "        vertical-align: top;\n",
       "    }\n",
       "\n",
       "    .dataframe thead th {\n",
       "        text-align: right;\n",
       "    }\n",
       "</style>\n",
       "<table border=\"1\" class=\"dataframe\">\n",
       "  <thead>\n",
       "    <tr style=\"text-align: right;\">\n",
       "      <th></th>\n",
       "      <th>Date Received</th>\n",
       "      <th>Company Name</th>\n",
       "      <th>City</th>\n",
       "      <th>Layoff Date</th>\n",
       "      <th># Affected</th>\n",
       "      <th>Area</th>\n",
       "    </tr>\n",
       "  </thead>\n",
       "  <tbody>\n",
       "    <tr>\n",
       "      <th>0</th>\n",
       "      <td>07/07/2021 - (08/30/2021)</td>\n",
       "      <td>Sodexo @ Suffolk University</td>\n",
       "      <td>Boston</td>\n",
       "      <td>2021-07-31 00:00:00</td>\n",
       "      <td>74</td>\n",
       "      <td>Boston</td>\n",
       "    </tr>\n",
       "    <tr>\n",
       "      <th>1</th>\n",
       "      <td>2021-08-13 00:00:00</td>\n",
       "      <td>A. Russo &amp; Sons, Inc.</td>\n",
       "      <td>Watertown</td>\n",
       "      <td>2021-10-12 00:00:00</td>\n",
       "      <td>239</td>\n",
       "      <td>Boston</td>\n",
       "    </tr>\n",
       "    <tr>\n",
       "      <th>2</th>\n",
       "      <td>2021-09-10 00:00:00</td>\n",
       "      <td>Human Service Option, Inc.</td>\n",
       "      <td>Dedham/Multiple Southeast locations</td>\n",
       "      <td>2021-11-01 00:00:00</td>\n",
       "      <td>207 total locations</td>\n",
       "      <td>Boston</td>\n",
       "    </tr>\n",
       "    <tr>\n",
       "      <th>3</th>\n",
       "      <td>2021-11-22 00:00:00</td>\n",
       "      <td>Flexion Therapeutics, Inc. (\"Flexion\")</td>\n",
       "      <td>Burlington</td>\n",
       "      <td>2022-01-18 00:00:00</td>\n",
       "      <td>110</td>\n",
       "      <td>Boston</td>\n",
       "    </tr>\n",
       "    <tr>\n",
       "      <th>4</th>\n",
       "      <td>2021-11-29 00:00:00</td>\n",
       "      <td>Decipher Pharmaceuticals, LLC</td>\n",
       "      <td>Waltham</td>\n",
       "      <td>2022-01-29 00:00:00</td>\n",
       "      <td>116</td>\n",
       "      <td>Boston</td>\n",
       "    </tr>\n",
       "    <tr>\n",
       "      <th>...</th>\n",
       "      <td>...</td>\n",
       "      <td>...</td>\n",
       "      <td>...</td>\n",
       "      <td>...</td>\n",
       "      <td>...</td>\n",
       "      <td>...</td>\n",
       "    </tr>\n",
       "    <tr>\n",
       "      <th>80</th>\n",
       "      <td>2023-02-07 00:00:00</td>\n",
       "      <td>Northeast Health Group d/b/a Governor's Center</td>\n",
       "      <td>Westfield</td>\n",
       "      <td>2023-04-07 00:00:00</td>\n",
       "      <td>55</td>\n",
       "      <td>West</td>\n",
       "    </tr>\n",
       "    <tr>\n",
       "      <th>81</th>\n",
       "      <td>2022-02-07 00:00:00</td>\n",
       "      <td>Northeast Health Group d/b/a Willimansett Cent...</td>\n",
       "      <td>Chicopee</td>\n",
       "      <td>2023-04-07 00:00:00</td>\n",
       "      <td>56</td>\n",
       "      <td>West</td>\n",
       "    </tr>\n",
       "    <tr>\n",
       "      <th>82</th>\n",
       "      <td>2023-02-07 00:00:00</td>\n",
       "      <td>Northeast Health Group d/b/a Willimansett East</td>\n",
       "      <td>Chicopee</td>\n",
       "      <td>2023-04-07 00:00:00</td>\n",
       "      <td>104</td>\n",
       "      <td>West</td>\n",
       "    </tr>\n",
       "    <tr>\n",
       "      <th>83</th>\n",
       "      <td>2023-03-07 00:00:00</td>\n",
       "      <td>Radius Global Solutions, LLC</td>\n",
       "      <td>Remote Worker/National</td>\n",
       "      <td>2023-04-03 00:00:00</td>\n",
       "      <td>1</td>\n",
       "      <td>Remote-National</td>\n",
       "    </tr>\n",
       "    <tr>\n",
       "      <th>84</th>\n",
       "      <td>2023-03-24 00:00:00</td>\n",
       "      <td>Aspiration Partners, Inc.</td>\n",
       "      <td>Remote Workers/National</td>\n",
       "      <td>5/6/23 - 6/1/23</td>\n",
       "      <td>180 (1 resides in MA)</td>\n",
       "      <td>Remote-National</td>\n",
       "    </tr>\n",
       "  </tbody>\n",
       "</table>\n",
       "<p>85 rows × 6 columns</p>\n",
       "</div>"
      ],
      "text/plain": [
       "                Date Received  \\\n",
       "0   07/07/2021 - (08/30/2021)   \n",
       "1         2021-08-13 00:00:00   \n",
       "2         2021-09-10 00:00:00   \n",
       "3         2021-11-22 00:00:00   \n",
       "4         2021-11-29 00:00:00   \n",
       "..                        ...   \n",
       "80        2023-02-07 00:00:00   \n",
       "81        2022-02-07 00:00:00   \n",
       "82        2023-02-07 00:00:00   \n",
       "83        2023-03-07 00:00:00   \n",
       "84        2023-03-24 00:00:00   \n",
       "\n",
       "                                         Company Name  \\\n",
       "0                         Sodexo @ Suffolk University   \n",
       "1                               A. Russo & Sons, Inc.   \n",
       "2                          Human Service Option, Inc.   \n",
       "3              Flexion Therapeutics, Inc. (\"Flexion\")   \n",
       "4                       Decipher Pharmaceuticals, LLC   \n",
       "..                                                ...   \n",
       "80     Northeast Health Group d/b/a Governor's Center   \n",
       "81  Northeast Health Group d/b/a Willimansett Cent...   \n",
       "82     Northeast Health Group d/b/a Willimansett East   \n",
       "83                       Radius Global Solutions, LLC   \n",
       "84                          Aspiration Partners, Inc.   \n",
       "\n",
       "                                    City          Layoff Date  \\\n",
       "0                                 Boston  2021-07-31 00:00:00   \n",
       "1                             Watertown   2021-10-12 00:00:00   \n",
       "2   Dedham/Multiple Southeast locations   2021-11-01 00:00:00   \n",
       "3                             Burlington  2022-01-18 00:00:00   \n",
       "4                                Waltham  2022-01-29 00:00:00   \n",
       "..                                   ...                  ...   \n",
       "80                             Westfield  2023-04-07 00:00:00   \n",
       "81                              Chicopee  2023-04-07 00:00:00   \n",
       "82                              Chicopee  2023-04-07 00:00:00   \n",
       "83                Remote Worker/National  2023-04-03 00:00:00   \n",
       "84               Remote Workers/National      5/6/23 - 6/1/23   \n",
       "\n",
       "               # Affected             Area  \n",
       "0                      74           Boston  \n",
       "1                     239           Boston  \n",
       "2     207 total locations           Boston  \n",
       "3                     110           Boston  \n",
       "4                     116           Boston  \n",
       "..                    ...              ...  \n",
       "80                     55             West  \n",
       "81                     56             West  \n",
       "82                    104             West  \n",
       "83                      1  Remote-National  \n",
       "84  180 (1 resides in MA)  Remote-National  \n",
       "\n",
       "[85 rows x 6 columns]"
      ]
     },
     "execution_count": 86,
     "metadata": {},
     "output_type": "execute_result"
    }
   ],
   "source": [
    "df_master"
   ]
  },
  {
   "cell_type": "code",
   "execution_count": 87,
   "id": "86627d8e-2679-4850-9947-5a79b16e4308",
   "metadata": {
    "tags": []
   },
   "outputs": [
    {
     "name": "stdout",
     "output_type": "stream",
     "text": [
      "There are 0 missing rows, meaning there are 0 notices to share\n"
     ]
    }
   ],
   "source": [
    "# Iterate over rows in df1\n",
    "#i_num=0\n",
    "\n",
    "for i, row in combined_df.iterrows():\n",
    "    #print(f'I NUM: {i_num}')\n",
    "    # Check if the row is present in df2\n",
    "    #i_num+=1\n",
    "    #print(i)\n",
    "    if tuple(row) not in [tuple(x) for x in df_master.values]:\n",
    "    #if not df_master.isin(row).all(1).any():\n",
    "        print(f' Row {i} is missing')\n",
    "        print(row)\n",
    "        print('\\n')\n",
    "        # Add the missing row to df2\n",
    "        df_master = df_master.append(row, ignore_index=True)\n",
    "        # Add the missing row to the list of missing rows\n",
    "        missing_rows.append(row)\n",
    "\n",
    "print(f'There are {len(missing_rows)} missing rows, meaning there are {len(missing_rows)} notices to share')\n",
    "\n",
    "\n",
    "# Save some space by deleting variables we won't use\n",
    "del i\n",
    "del row"
   ]
  },
  {
   "cell_type": "code",
   "execution_count": 88,
   "id": "d0082cc3-a4d6-484f-98ba-6dd146ac8872",
   "metadata": {
    "tags": []
   },
   "outputs": [],
   "source": [
    "df_master.to_excel('MASTER_massachusetts_WARN_File.xlsx',index=False)"
   ]
  },
  {
   "cell_type": "code",
   "execution_count": 89,
   "id": "68046367-1fc9-4af2-9351-974c2e3a0953",
   "metadata": {
    "tags": []
   },
   "outputs": [
    {
     "data": {
      "text/plain": [
       "'The following companies have submitted a Mass WARN notice for the week ending: 04-14-23'"
      ]
     },
     "execution_count": 89,
     "metadata": {},
     "output_type": "execute_result"
    }
   ],
   "source": [
    "# missing_rows[0][1]\n",
    "curr_emplyr_list=[]\n",
    "for x in missing_rows:\n",
    "    curr_emplyr_list.append(x[1])\n",
    "    \n",
    "curr_emplyr_list=list(set(curr_emplyr_list))\n",
    "\n",
    "stringlistwarn2='The following companies have submitted a Mass WARN notice for the week ending: '+mostrecentwarndate\n",
    "\n",
    "for x in curr_emplyr_list:\n",
    "    stringlistwarn2+=x\n",
    "    stringlistwarn2+=\" | \"\n",
    "\n",
    "stringlistwarn2"
   ]
  },
  {
   "cell_type": "code",
   "execution_count": 90,
   "id": "119a6b66-f947-4183-ae4b-6ff6380a51cd",
   "metadata": {
    "tags": []
   },
   "outputs": [
    {
     "name": "stdout",
     "output_type": "stream",
     "text": [
      "The following companies have submitted a Mass WARN notice for the week ending: 04-14-23... (87)\n"
     ]
    }
   ],
   "source": [
    "import re\n",
    "\n",
    "\n",
    "#words = stringlistwarn\n",
    "words = stringlistwarn2\n",
    "\n",
    "\n",
    "tweet = \"\"\n",
    "tweet_list = []\n",
    "#heading = re.compile('CHAPTER \\d+')\n",
    "\n",
    "#text_list = re.split(r'(;|,|--|\\.)(\\s*)', words)\n",
    "text_list = re.split(r'\\|(\\s*)', words)\n",
    "\n",
    "for word in text_list:\n",
    "    if len(tweet + word) > 280:\n",
    "        tweet_list.append(tweet)\n",
    "        tweet='The following companies have submitted a MASS warn notice for the week ending '+mostrecentwarndate+\": \"\n",
    "        tweet += word\n",
    "        \n",
    "    else:\n",
    "        #print(len(tweet))\n",
    "        tweet = tweet + word\n",
    "tweet_list.append(tweet)\n",
    "for post in tweet_list:\n",
    "    # do your tweeting; I'm just printing, plus the line length, for validation\n",
    "    print(post + \"... (\" + str(len(post)) + \")\")\n",
    "    \n",
    "lasttweet=f'{mostrecentwarndate}: For more information please see https://www.mass.gov/service-details/worker-adjustment-and-retraining-act-warn-weekly-report'    \n",
    "tweet_list.append(lasttweet)\n"
   ]
  },
  {
   "cell_type": "code",
   "execution_count": 91,
   "id": "5f4d7960-7cf0-4778-9c44-145198a43165",
   "metadata": {},
   "outputs": [
    {
     "name": "stdout",
     "output_type": "stream",
     "text": [
      "The following companies have submitted a Mass WARN notice for the week ending: 04-14-23... (87)\n",
      "\n",
      "\n",
      "04-14-23: For more information please see https://www.mass.gov/service-details/worker-adjustment-and-retraining-act-warn-weekly-report... (134)\n",
      "\n",
      "\n"
     ]
    }
   ],
   "source": [
    "for post in tweet_list:\n",
    "    print(post + \"... (\" + str(len(post)) + \")\")\n",
    "    print('\\n')"
   ]
  },
  {
   "cell_type": "code",
   "execution_count": 92,
   "id": "381d1b98-58d6-422a-8f79-2fab9f28804f",
   "metadata": {
    "tags": []
   },
   "outputs": [],
   "source": [
    "# API KEYS\n",
    "API_Key='SyGOOYsOPpbuk16GIPUaz9Hoa'\n",
    "API_Key_Secret='5zPAkWnZazkZZIERuzAdoyYyWAnUMWlDQIfARFlWY0jYaiXF5M'\n",
    "bearer_token='AAAAAAAAAAAAAAAAAAAAAN0qmwEAAAAA%2FLTtS%2F6b0vM9jWsOnXGyyH4pAWQ%3DbvEInh6X971tjHg3YK9LoxfeF9TiQJMhYsLMHcNdYhEcAoGfun'\t\n",
    "access_token = \"1361718156545449991-ZdAGVSOTsAKDhqFgyyOgOAvDYqivGN\"\n",
    "access_token_secret = \"H92plYbUzj2OI6FtXLjnVZiylbGpIvvIHDfgBwh6fsrEQ\""
   ]
  },
  {
   "cell_type": "code",
   "execution_count": 93,
   "id": "1bd35287-3efd-4d26-9bd0-4329c1222c94",
   "metadata": {
    "tags": []
   },
   "outputs": [],
   "source": [
    "### CONNECTING TO TWITTER\n",
    "\t\n",
    "\t\n",
    "\t\n",
    "    \n",
    "\n",
    "import tweepy\n",
    "\n",
    "# API_Key = \"Insert here your API Key\"\n",
    "# API_Key_Secret = \"Insert here your API Key Secret\"\n",
    "# access_token = \"1361718156545449991-ZdAGVSOTsAKDhqFgyyOgOAvDYqivGN\"\n",
    "# access_token_secret = \"H92plYbUzj2OI6FtXLjnVZiylbGpIvvIHDfgBwh6fsrEQ\"\n",
    "\n",
    "# OAuth process, using the keys and tokens\n",
    "auth = tweepy.OAuth1UserHandler(\n",
    "   API_Key, API_Key_Secret, access_token, access_token_secret\n",
    ")\n",
    "\n",
    "auth.set_access_token(access_token, access_token_secret)\n",
    "\n",
    "# Creation of the actual interface, using authentication\n",
    "api = tweepy.API(auth)\t\n",
    "\t\n",
    "\t\n",
    "\t\n",
    "\t\n",
    "\t\n",
    "\t\n",
    "\t\n",
    "\t\n"
   ]
  },
  {
   "cell_type": "code",
   "execution_count": 94,
   "id": "0accbf36-00f9-42f7-9d37-cb1898de35dc",
   "metadata": {
    "tags": []
   },
   "outputs": [],
   "source": [
    "# TWEETING \n",
    "\n",
    "tweet = \"This is a test tweet\"\n",
    "\n",
    "# Sample method, used to update a status, you can write message whatever you want to post in twitter\n",
    "# api.update_status(tweet);"
   ]
  },
  {
   "cell_type": "code",
   "execution_count": 95,
   "id": "72d6d8ee-cc30-46c1-96ab-ebfe027bbb13",
   "metadata": {
    "tags": []
   },
   "outputs": [
    {
     "name": "stdout",
     "output_type": "stream",
     "text": [
      "No WARN Notices for MASSACHUSETTS at this time\n"
     ]
    }
   ],
   "source": [
    "if not len(tweet_list)<=2:\n",
    "    for x in tweet_list:\n",
    "        print(x)\n",
    "        print('\\n')\n",
    "        tweet = x\n",
    "        api.update_status(tweet)\n",
    "    \n",
    "else:\n",
    "    print('No WARN Notices for MASSACHUSETTS at this time')"
   ]
  },
  {
   "cell_type": "code",
   "execution_count": 96,
   "id": "7a84c7cd-0554-475c-8dfb-4e6da4026f44",
   "metadata": {
    "tags": []
   },
   "outputs": [
    {
     "name": "stdout",
     "output_type": "stream",
     "text": [
      "<openpyxl.packaging.core.DocumentProperties object>\n",
      "Parameters:\n",
      "creator=None, title=None, description=None, subject=None, identifier=None, language=None, created=datetime.datetime(2023, 4, 18, 19, 10, 36), modified=datetime.datetime(2023, 4, 18, 19, 10, 36), lastModifiedBy=None, category=None, contentStatus=None, version=None, revision=None, keywords=None, lastPrinted=None\n",
      "\n",
      "\n",
      "\n",
      "\n",
      "\n",
      "\n",
      "<openpyxl.packaging.core.DocumentProperties object>\n",
      "Parameters:\n",
      "creator='Daniel Sa, https://www.linkedin.com/in/danielsajr/', title='MASTER_massachusetts_WARN_File', description='List of Massachusetts WARN Notices since 2022', subject='Employment', identifier=None, language='English', created=datetime.datetime(2023, 4, 18, 19, 10, 36), modified=datetime.datetime(2023, 4, 18, 19, 10, 36), lastModifiedBy=None, category=None, contentStatus='PLEASE SHARE AND COPY', version=None, revision=None, keywords='#import will2live', lastPrinted=None\n"
     ]
    }
   ],
   "source": [
    "import openpyxl\n",
    "fh = openpyxl.load_workbook(\"MASTER_massachusetts_WARN_File-Copy1.xlsx\")\n",
    "\n",
    "obj = fh.properties   #To get old properties\n",
    "print(obj)   # print old properties\n",
    "\n",
    "fh.properties.title = \"MASTER_massachusetts_WARN_File\"          # To set title\n",
    "#fh.properties.category = \"newCategory\"    # To set category\n",
    "#fh.properties.subject = \"newSubject\"      # To set subject\n",
    "fh.properties.creator = \"Daniel Sa, https://www.linkedin.com/in/danielsajr/\" \n",
    "fh.properties.description = \"List of Massachusetts WARN Notices since 2022\"\n",
    "fh.properties.language = \"English\"\n",
    "fh.properties.subject = \"Employment\"\n",
    "fh.properties.keywords = \"#import will2live\"\n",
    "fh.properties.contentStatus = \"PLEASE SHARE AND COPY\"\n",
    "#fh.properties.subject = \"Employment\"\n",
    "\n",
    "\n",
    "##similarly you can set other fields ##\n",
    "print('\\n')\n",
    "print('\\n')\n",
    "print('\\n')\n",
    "\n",
    "new_obj = fh.properties   #Now get new properties\n",
    "print(new_obj)   # print new properties\n",
    "\n",
    "fh.save(\"MASTER_massachusetts_WARN_File-Copy2.xlsx\")\n"
   ]
  },
  {
   "cell_type": "code",
   "execution_count": 97,
   "id": "57a86c75-2931-435d-a461-ee866add4b21",
   "metadata": {},
   "outputs": [
    {
     "data": {
      "text/plain": [
       "'\\ndel API_KEY\\ndel API_Key_Secret\\ndel bearer_token\\ndel access_token\\ndel access_token_secret\\ndel words\\n\\ndel missing_rows\\ndel stringlistwarn2\\ndel combined_df\\ndel savefile\\n'"
      ]
     },
     "execution_count": 97,
     "metadata": {},
     "output_type": "execute_result"
    }
   ],
   "source": [
    "# Save some space by deleting variables we won't use\n",
    "\n",
    "del new_obj\n",
    "del fh\n",
    "del tweet_list\n",
    "del tweet\n",
    "del api\n",
    "del post \n",
    "del curr_emplyr_list\n",
    "\n",
    "'''\n",
    "del API_KEY\n",
    "del API_Key_Secret\n",
    "del bearer_token\n",
    "del access_token\n",
    "del access_token_secret\n",
    "del words\n",
    "\n",
    "del missing_rows\n",
    "del stringlistwarn2\n",
    "del combined_df\n",
    "del savefile\n",
    "'''"
   ]
  },
  {
   "cell_type": "code",
   "execution_count": null,
   "id": "191a2ca4-b449-4feb-b289-43f496d84fba",
   "metadata": {
    "collapsed": true,
    "jupyter": {
     "outputs_hidden": true
    },
    "tags": []
   },
   "outputs": [],
   "source": []
  },
  {
   "cell_type": "code",
   "execution_count": null,
   "id": "70fe7c23-8c88-410e-b4ee-3c6b34c99965",
   "metadata": {},
   "outputs": [],
   "source": []
  }
 ],
 "metadata": {
  "kernelspec": {
   "display_name": "Python 3 (ipykernel)",
   "language": "python",
   "name": "python3"
  },
  "language_info": {
   "codemirror_mode": {
    "name": "ipython",
    "version": 3
   },
   "file_extension": ".py",
   "mimetype": "text/x-python",
   "name": "python",
   "nbconvert_exporter": "python",
   "pygments_lexer": "ipython3",
   "version": "3.9.12"
  }
 },
 "nbformat": 4,
 "nbformat_minor": 5
}
