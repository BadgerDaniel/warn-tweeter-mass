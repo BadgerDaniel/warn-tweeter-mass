{
 "cells": [
  {
   "cell_type": "code",
   "execution_count": null,
   "id": "6f58ca91-dc48-4ae4-b6ae-cec9557fba4d",
   "metadata": {
    "tags": []
   },
   "outputs": [],
   "source": [
    "# import will2live\n",
    "\n",
    "# imports and variables\n",
    "import requests\n",
    "import bs4\n",
    "import pandas as pd\n",
    "import time\n",
    "warnpage=f'https://www.mass.gov/service-details/worker-adjustment-and-retraining-act-warn-weekly-report'\n",
    "verify_bool=True\n",
    "\n",
    "baseurl=f'https://www.mass.gov/doc/warn-report-for-the-week-ending-04-14-23/download'\n",
    "baseurlfront=f'https://www.mass.gov/doc/warn-report-for-the-week-ending-'\n",
    "baseurlend=f'/download'"
   ]
  },
  {
   "cell_type": "code",
   "execution_count": null,
   "id": "414a8dcb-3db8-4e4d-848f-a31352542ea9",
   "metadata": {
    "tags": []
   },
   "outputs": [],
   "source": [
    "#Send request to WARN Notice Page\n",
    "res=requests.get(warnpage,verify=verify_bool)\n",
    "\n",
    "#Read with BS4\n",
    "soup=bs4.BeautifulSoup(res.text,'lxml')\n",
    "text=str(soup.select(\"body\"))\n",
    "\n",
    "#Figure out the most recent warn date\n",
    "mostrecentwarndate=text[text.find('warn-report-for-the-week-ending'):][:text[text.find('warn-report-for-the-week-ending'):].find(f'/download')][-8:]\n",
    "\n",
    "#Create a URL that will download the file\n",
    "newurl=baseurlfront+mostrecentwarndate+baseurlend\n",
    "url = newurl\n",
    "filename = mostrecentwarndate+'_warn.xlsx'"
   ]
  },
  {
   "cell_type": "code",
   "execution_count": null,
   "id": "6c266818-35c7-46c7-9a30-173245b43ca1",
   "metadata": {
    "tags": []
   },
   "outputs": [],
   "source": [
    "# Save some space by deleting variables we won't use\n",
    "del res\n",
    "del soup\n",
    "del text"
   ]
  },
  {
   "cell_type": "code",
   "execution_count": null,
   "id": "fe566b64-5c08-4138-b5c1-cb6efc52956c",
   "metadata": {
    "tags": []
   },
   "outputs": [],
   "source": [
    "\n",
    "#Download the file\n",
    "response = requests.get(url)\n",
    "\n",
    "with open(filename, 'wb') as f:\n",
    "    f.write(response.content)\n",
    "\n",
    "# Save it to excel\n",
    "df=pd.read_excel(filename)\n",
    "\n"
   ]
  },
  {
   "cell_type": "code",
   "execution_count": null,
   "id": "80266ecf-5709-4c0f-953b-c6ed5f0bedb5",
   "metadata": {
    "tags": []
   },
   "outputs": [],
   "source": [
    "new_header = df.iloc[1] #grab the first row for the header\n",
    "\n",
    "df.columns = new_header #set the header row as the df header\n",
    "\n",
    "df=df[2:] #take the data less the header row\n",
    "\n",
    "savefile=f'MassWARN_'+mostrecentwarndate+'.xlsx'\n",
    "df.to_excel(savefile,index=False)"
   ]
  },
  {
   "cell_type": "code",
   "execution_count": null,
   "id": "c55f7120-fe2a-4fa8-a26f-00215facf95f",
   "metadata": {
    "tags": []
   },
   "outputs": [],
   "source": [
    "# Save some space by deleting variables we won't use\n",
    "del new_header\n",
    "del url\n",
    "del newurl\n",
    "del baseurlfront\n",
    "del baseurlend\n",
    "del baseurl\n",
    "del verify_bool\n",
    "del warnpage"
   ]
  },
  {
   "cell_type": "code",
   "execution_count": null,
   "id": "4bf4aaf1-16e2-4284-9460-e23ca99da2d5",
   "metadata": {
    "tags": []
   },
   "outputs": [],
   "source": [
    "import pandas as pd\n",
    "\n",
    "# read in the Excel file\n",
    "\n",
    "excel_file = pd.ExcelFile(filename)\n",
    "print(f'Reading this file: {filename}')\n",
    "\n",
    "# loop through all sheets in the Excel file\n",
    "dfs = []\n",
    "for sheet_name in excel_file.sheet_names:\n",
    "    #print(sheet_name)\n",
    "    # create a dataframe from the sheet\n",
    "    dfz = excel_file.parse(sheet_name)\n",
    "\n",
    "    \n",
    "\n",
    "    \n",
    "    \n",
    "    #### Remove first two rows and such\n",
    "    new_header = dfz.iloc[1] #grab the first row for the header\n",
    "\n",
    "    dfz.columns = new_header #set the header row as the df header\n",
    "\n",
    "    dfz=dfz[2:] #take the data less the header row\n",
    "\n",
    "    # add a new column with the sheet name\n",
    "    dfz['Area'] = sheet_name\n",
    "    \n",
    "\n",
    "    \n",
    "    # append the dataframe to the list of dataframes\n",
    "    dfs.append(dfz)\n",
    "\n",
    "\n",
    "# concatenate all dataframes together into one dataframe\n",
    "combined_df = pd.concat(dfs)\n",
    "\n",
    "# print the final dataframe\n",
    "#print(combined_df.head())\n",
    "combined_df.tail()"
   ]
  },
  {
   "cell_type": "code",
   "execution_count": null,
   "id": "3ba3861a-d588-475c-a1e1-1e3a992d8edb",
   "metadata": {
    "tags": []
   },
   "outputs": [],
   "source": [
    "# Save some space by deleting variables we won't use\n",
    "del dfs\n",
    "del dfz\n",
    "del excel_file"
   ]
  },
  {
   "cell_type": "code",
   "execution_count": null,
   "id": "049f595a-5221-4ff0-bc67-3ea24bd615dc",
   "metadata": {
    "tags": []
   },
   "outputs": [],
   "source": [
    "savefile=f'MassWARN_'+mostrecentwarndate+'_CONCAT.xlsx'\n",
    "combined_df.to_excel(savefile,index=False)\n",
    "\n",
    "# This code can be removed for saving disk space!"
   ]
  },
  {
   "cell_type": "code",
   "execution_count": null,
   "id": "dc0d539d-d5e5-4289-bdcc-c35aaf671f82",
   "metadata": {
    "tags": []
   },
   "outputs": [],
   "source": [
    "df_master=pd.read_excel('MASTER_massachusetts_WARN_File.xlsx')\n",
    "\n",
    "\n",
    "# Need to manually update this master file to include the other tabs of data\n",
    "missing_rows=[]"
   ]
  },
  {
   "cell_type": "code",
   "execution_count": null,
   "id": "b30fd3f1-ddc8-4aaf-8d63-b2f3d742c3f8",
   "metadata": {
    "tags": []
   },
   "outputs": [],
   "source": [
    "df_master"
   ]
  },
  {
   "cell_type": "code",
   "execution_count": null,
   "id": "86627d8e-2679-4850-9947-5a79b16e4308",
   "metadata": {
    "tags": []
   },
   "outputs": [],
   "source": [
    "# Iterate over rows in df1\n",
    "#i_num=0\n",
    "\n",
    "for i, row in combined_df.iterrows():\n",
    "    #print(f'I NUM: {i_num}')\n",
    "    # Check if the row is present in df2\n",
    "    #i_num+=1\n",
    "    #print(i)\n",
    "    if tuple(row) not in [tuple(x) for x in df_master.values]:\n",
    "    #if not df_master.isin(row).all(1).any():\n",
    "        print(f' Row {i} is missing')\n",
    "        print(row)\n",
    "        print('\\n')\n",
    "        # Add the missing row to df2\n",
    "        df_master = df_master.append(row, ignore_index=True)\n",
    "        # Add the missing row to the list of missing rows\n",
    "        missing_rows.append(row)\n",
    "\n",
    "print(f'There are {len(missing_rows)} missing rows, meaning there are {len(missing_rows)} notices to share')\n",
    "\n",
    "\n",
    "# Save some space by deleting variables we won't use\n",
    "del i\n",
    "del row"
   ]
  },
  {
   "cell_type": "code",
   "execution_count": null,
   "id": "d0082cc3-a4d6-484f-98ba-6dd146ac8872",
   "metadata": {
    "tags": []
   },
   "outputs": [],
   "source": [
    "df_master.to_excel('MASTER_massachusetts_WARN_File.xlsx',index=False)\n",
    "df_master.to_excel('MASTER_massachusetts_WARN_File_'+mostrecentwarndate+'_.xlsx',index=False)\n"
   ]
  },
  {
   "cell_type": "code",
   "execution_count": null,
   "id": "d4e8145f-d401-45d1-95e3-c7c0fed9341a",
   "metadata": {},
   "outputs": [],
   "source": []
  },
  {
   "cell_type": "code",
   "execution_count": null,
   "id": "68046367-1fc9-4af2-9351-974c2e3a0953",
   "metadata": {
    "tags": []
   },
   "outputs": [],
   "source": [
    "# missing_rows[0][1]\n",
    "curr_emplyr_list=[]\n",
    "for x in missing_rows:\n",
    "    curr_emplyr_list.append(x[1])\n",
    "    \n",
    "curr_emplyr_list=list(set(curr_emplyr_list))\n",
    "\n",
    "#stringlistwarn2='The following companies have submitted a Mass WARN notice for the week ending '+mostrecentwarndate+\": \"\n",
    "stringlistwarn2='The following companies have MA. WARN notice updates for the week ending '+mostrecentwarndate+\": \"\n",
    "\n",
    "for x in curr_emplyr_list:\n",
    "    stringlistwarn2+=x\n",
    "    stringlistwarn2+=\" | \"\n",
    "\n",
    "stringlistwarn2"
   ]
  },
  {
   "cell_type": "code",
   "execution_count": null,
   "id": "119a6b66-f947-4183-ae4b-6ff6380a51cd",
   "metadata": {
    "tags": []
   },
   "outputs": [],
   "source": [
    "import re\n",
    "\n",
    "\n",
    "#words = stringlistwarn\n",
    "words = stringlistwarn2\n",
    "\n",
    "\n",
    "tweet = \"\"\n",
    "tweet_list = []\n",
    "#heading = re.compile('CHAPTER \\d+')\n",
    "\n",
    "#text_list = re.split(r'(;|,|--|\\.)(\\s*)', words)\n",
    "text_list = re.split(r'\\|(\\s*)', words)\n",
    "\n",
    "for word in text_list:\n",
    "    if len(tweet + word) > 280:\n",
    "        tweet_list.append(tweet)\n",
    "        #tweet='The following companies have submitted a MASS WARN notice for the week ending '+mostrecentwarndate+\": \"\n",
    "        tweet='The following companies have MA. WARN notice updates for the week ending '+mostrecentwarndate+\": \"\n",
    "        tweet += word\n",
    "        \n",
    "    else:\n",
    "        #print(len(tweet))\n",
    "        tweet = tweet + word\n",
    "tweet_list.append(tweet)\n",
    "for post in tweet_list:\n",
    "    # do your tweeting; I'm just printing, plus the line length, for validation\n",
    "    print(post + \"... (\" + str(len(post)) + \")\")\n",
    "    \n",
    "lasttweet=f'{mostrecentwarndate}: For more information please see https://www.mass.gov/service-details/worker-adjustment-and-retraining-act-warn-weekly-report'    \n",
    "tweet_list.append(lasttweet)\n"
   ]
  },
  {
   "cell_type": "code",
   "execution_count": null,
   "id": "5f4d7960-7cf0-4778-9c44-145198a43165",
   "metadata": {},
   "outputs": [],
   "source": [
    "for post in tweet_list:\n",
    "    print(post + \"... (\" + str(len(post)) + \")\")\n",
    "    print('\\n')"
   ]
  },
  {
   "cell_type": "code",
   "execution_count": null,
   "id": "16dd0360-8c19-4e89-af2d-41969b3a19dd",
   "metadata": {
    "tags": []
   },
   "outputs": [],
   "source": [
    "# Bad form for credentials\n",
    "# Consider using input(), or better yet: the ' getpass ' module.\n",
    "\n",
    "# Grab specified lines from document containing API connection tokens\n",
    "with open('creds.txt', 'r') as file:\n",
    "    lines = file.readlines()\n",
    "    \n",
    "    API_Key=lines[1][:-1]\n",
    "    API_Key_Secret=lines[4][:-1]\n",
    "    bearer_token=lines[7][:-1]\n",
    "    access_token=lines[10][:-1]\n",
    "    access_token_secret=lines[13]"
   ]
  },
  {
   "cell_type": "code",
   "execution_count": null,
   "id": "9d7930dc-1fe3-4b88-bd25-72ca703abae6",
   "metadata": {
    "tags": []
   },
   "outputs": [],
   "source": [
    "API_Key[:-1]"
   ]
  },
  {
   "cell_type": "code",
   "execution_count": null,
   "id": "beab403b-e4c8-4be9-8a47-aa713a411400",
   "metadata": {
    "tags": []
   },
   "outputs": [],
   "source": [
    "#API_Key_Secret"
   ]
  },
  {
   "cell_type": "code",
   "execution_count": null,
   "id": "c206affe-03a8-4d09-b281-89a35b3e5beb",
   "metadata": {
    "tags": []
   },
   "outputs": [],
   "source": [
    "bearer_token"
   ]
  },
  {
   "cell_type": "code",
   "execution_count": null,
   "id": "48b0d19e-fc84-4679-a2aa-4aefcdcf0ec2",
   "metadata": {
    "tags": []
   },
   "outputs": [],
   "source": [
    "access_token"
   ]
  },
  {
   "cell_type": "code",
   "execution_count": null,
   "id": "10ec77b7-293e-4964-b07d-efd90ba3af36",
   "metadata": {
    "tags": []
   },
   "outputs": [],
   "source": [
    "access_token_secret"
   ]
  },
  {
   "cell_type": "code",
   "execution_count": null,
   "id": "18d44deb-31bc-46cb-8b8f-70faa07d0487",
   "metadata": {},
   "outputs": [],
   "source": []
  },
  {
   "cell_type": "code",
   "execution_count": null,
   "id": "1bd35287-3efd-4d26-9bd0-4329c1222c94",
   "metadata": {
    "tags": []
   },
   "outputs": [],
   "source": [
    "### CONNECTING TO TWITTER\n",
    "\n",
    "import tweepy\n",
    "\n",
    "# OAuth process, using the keys and tokens\n",
    "auth = tweepy.OAuth1UserHandler(\n",
    "   API_Key, API_Key_Secret, access_token, access_token_secret\n",
    ")\n",
    "\n",
    "auth.set_access_token(access_token, access_token_secret)\n",
    "\n",
    "# Creation of the actual interface, using authentication\n",
    "api = tweepy.API(auth)\n"
   ]
  },
  {
   "cell_type": "code",
   "execution_count": null,
   "id": "0eb60950-64d9-4c4d-97f4-34925364b10c",
   "metadata": {},
   "outputs": [],
   "source": []
  },
  {
   "cell_type": "code",
   "execution_count": null,
   "id": "0accbf36-00f9-42f7-9d37-cb1898de35dc",
   "metadata": {
    "tags": []
   },
   "outputs": [],
   "source": [
    "# TWEETING \n",
    "\n",
    "tweet = \"This is a test tweet\"\n",
    "\n",
    "# Sample method, used to update a status, you can write message whatever you want to post in twitter\n",
    "# api.update_status(tweet);"
   ]
  },
  {
   "cell_type": "code",
   "execution_count": null,
   "id": "3a9cb835-e910-467f-91ef-2f7e2eb1a7a4",
   "metadata": {
    "tags": []
   },
   "outputs": [],
   "source": [
    "import pickle\n",
    "\n",
    "with open(\"unpublishedtweetlist\", \"wb\") as fp:   #Pickling\n",
    "    pickle.dump(tweet_list, fp)\n",
    " "
   ]
  },
  {
   "cell_type": "code",
   "execution_count": null,
   "id": "72d6d8ee-cc30-46c1-96ab-ebfe027bbb13",
   "metadata": {
    "tags": []
   },
   "outputs": [],
   "source": [
    "if not len(tweet_list)<=2:\n",
    "    for x in tweet_list:\n",
    "        print(x)\n",
    "        print('\\n')\n",
    "        tweet = x\n",
    "        api.update_status(tweet)\n",
    "        time.sleep(90)\n",
    "\n",
    "elif len(curr_emplyr_list)>=1:\n",
    "    for x in tweet_list:\n",
    "        print(x)\n",
    "        print('\\n')\n",
    "        tweet = x\n",
    "        api.update_status(tweet)\n",
    "        time.seep(90)\n",
    "    \n",
    "else:\n",
    "    print('No WARN Notices for MASSACHUSETTS at this time')\n",
    "    \n",
    "    "
   ]
  },
  {
   "cell_type": "code",
   "execution_count": null,
   "id": "7a84c7cd-0554-475c-8dfb-4e6da4026f44",
   "metadata": {
    "tags": []
   },
   "outputs": [],
   "source": [
    "import openpyxl\n",
    "\n",
    "fh = openpyxl.load_workbook(\"MASTER_massachusetts_WARN_File.xlsx\")\n",
    "#fh = openpyxl.load_workbook(\"MASTER_massachusetts_WARN_File-Copy1.xlsx\")\n",
    "\n",
    "obj = fh.properties   #To get old properties\n",
    "print(obj)   # print old properties\n",
    "\n",
    "fh.properties.title = \"MASTER_massachusetts_WARN_File\"          # To set title\n",
    "#fh.properties.category = \"newCategory\"    # To set category\n",
    "#fh.properties.subject = \"newSubject\"      # To set subject\n",
    "fh.properties.creator = \"Daniel Sa, https://www.linkedin.com/in/danielsajr/\" \n",
    "fh.properties.description = \"List of Massachusetts WARN Notices since 2022\"\n",
    "fh.properties.language = \"English\"\n",
    "fh.properties.subject = \"Employment\"\n",
    "fh.properties.keywords = \"#import will2live\"\n",
    "fh.properties.contentStatus = \"PLEASE SHARE AND COPY\"\n",
    "#fh.properties.subject = \"Employment\"\n",
    "\n",
    "\n",
    "##similarly you can set other fields ##\n",
    "print('\\n')\n",
    "print('\\n')\n",
    "print('\\n')\n",
    "\n",
    "new_obj = fh.properties   #Now get new properties\n",
    "print(new_obj)   # print new properties\n",
    "\n",
    "fh.save(\"MASTER_massachusetts_WARN_File.xlsx\")\n"
   ]
  },
  {
   "cell_type": "code",
   "execution_count": null,
   "id": "57a86c75-2931-435d-a461-ee866add4b21",
   "metadata": {},
   "outputs": [],
   "source": [
    "# Save some space by deleting variables we won't use\n",
    "\n",
    "del new_obj\n",
    "del fh\n",
    "del tweet_list\n",
    "del tweet\n",
    "del api\n",
    "del post \n",
    "del curr_emplyr_list\n",
    "\n",
    "#del API_KEY\n",
    "del API_Key_Secret\n",
    "del bearer_token\n",
    "del access_token\n",
    "del access_token_secret\n",
    "del words\n",
    "\n",
    "del missing_rows\n",
    "del stringlistwarn2\n",
    "del combined_df\n",
    "del savefile"
   ]
  },
  {
   "cell_type": "code",
   "execution_count": null,
   "id": "191a2ca4-b449-4feb-b289-43f496d84fba",
   "metadata": {
    "tags": []
   },
   "outputs": [],
   "source": []
  },
  {
   "cell_type": "code",
   "execution_count": null,
   "id": "70fe7c23-8c88-410e-b4ee-3c6b34c99965",
   "metadata": {},
   "outputs": [],
   "source": []
  },
  {
   "cell_type": "code",
   "execution_count": null,
   "id": "782eadd8-0231-4033-b425-7d487e77dcf8",
   "metadata": {},
   "outputs": [],
   "source": []
  }
 ],
 "metadata": {
  "kernelspec": {
   "display_name": "Python 3 (ipykernel)",
   "language": "python",
   "name": "python3"
  },
  "language_info": {
   "codemirror_mode": {
    "name": "ipython",
    "version": 3
   },
   "file_extension": ".py",
   "mimetype": "text/x-python",
   "name": "python",
   "nbconvert_exporter": "python",
   "pygments_lexer": "ipython3",
   "version": "3.9.12"
  }
 },
 "nbformat": 4,
 "nbformat_minor": 5
}
